{
 "cells": [
  {
   "cell_type": "markdown",
   "id": "6a8a84bf",
   "metadata": {},
   "source": [
    "# Привет, коллега!\n",
    "\n",
    "В течение четырех занятий нас ждет полное погружение, которое включает в себя:\n",
    "1. Получение данных\n",
    "2. Предобработка данных\n",
    "3. Раздовательный анализ данных\n",
    "4. Проверка гипотез\n",
    "5. Формулирование выводов, рекомендаций и плана возможных действий для мнеджмента компании"
   ]
  },
  {
   "cell_type": "markdown",
   "id": "4aff2435",
   "metadata": {},
   "source": [
    "#### Данные для задания можно скачать по ссылке: https://drive.google.com/file/d/1pCBXkKTE-Dqf2saOAwCIke08vcG6_voY/view?usp=sharing\n",
    "#### Для выполнения задания тебе могут пригодится библиотеки:\n",
    "(some **hint** \n",
    "1. import pandas as pd\n",
    "2. import numpy as np \n",
    "3. import datetime\n",
    "3. import sklearn )"
   ]
  },
  {
   "cell_type": "markdown",
   "id": "1896cc6f",
   "metadata": {},
   "source": [
    "Описание колонок в дата-фрейме:\n",
    "\n",
    "1) id - уникальный ID записи\n",
    "2) date_created - дата и время создания заказа\n",
    "3) order_id - уникальный ID заказа\n",
    "4) city_name - город заказа\n",
    "5) date_assembly_started - дата и время начала сборки заказа\n",
    "6) work_place_id - id места работника, который работает с заказом\n",
    "7) date_picked - дата и время окончания отбора позиций заказа\n",
    "8) single_item (булевое значение) - находится ли в заказе 1 товар в количестве 1 штука\n",
    "9) from_multi_stock_wave (булевое значение) - собирается ли заказ с нескольких складов\n"
   ]
  },
  {
   "cell_type": "markdown",
   "id": "1f7407c6",
   "metadata": {},
   "source": [
    "Задача №1. Коллега прислал тебе данные для анализа: скачай данные, проверь количество колонок. Если присутствуют лишняя колонка (колонки) - их нужно удалить."
   ]
  },
  {
   "cell_type": "code",
   "execution_count": 21,
   "id": "ad31d3b4",
   "metadata": {},
   "outputs": [],
   "source": [
    "import pandas as pd\n",
    "\n",
    "data = pd.read_csv('Step_1_Uzum_Academy (1).csv')"
   ]
  },
  {
   "cell_type": "code",
   "execution_count": 22,
   "metadata": {},
   "outputs": [
    {
     "name": "stdout",
     "output_type": "stream",
     "text": [
      "<class 'pandas.core.frame.DataFrame'>\n",
      "RangeIndex: 3000 entries, 0 to 2999\n",
      "Data columns (total 11 columns):\n",
      " #   Column                 Non-Null Count  Dtype  \n",
      "---  ------                 --------------  -----  \n",
      " 0   Unnamed: 0             3000 non-null   int64  \n",
      " 1   id                     3000 non-null   float64\n",
      " 2   date_created           3000 non-null   object \n",
      " 3   order_id               2992 non-null   float64\n",
      " 4   city_name              2992 non-null   object \n",
      " 5   date_assembly_started  2810 non-null   object \n",
      " 6   work_place_id          2956 non-null   float64\n",
      " 7   date_picked            2610 non-null   object \n",
      " 8   single_item            3000 non-null   bool   \n",
      " 9   from_multi_stock_wave  3000 non-null   bool   \n",
      " 10  dp_id                  2994 non-null   float64\n",
      "dtypes: bool(2), float64(4), int64(1), object(4)\n",
      "memory usage: 216.9+ KB\n"
     ]
    }
   ],
   "source": [
    "data.info()"
   ]
  },
  {
   "cell_type": "code",
   "execution_count": 23,
   "metadata": {},
   "outputs": [
    {
     "data": {
      "text/html": [
       "<div>\n",
       "<style scoped>\n",
       "    .dataframe tbody tr th:only-of-type {\n",
       "        vertical-align: middle;\n",
       "    }\n",
       "\n",
       "    .dataframe tbody tr th {\n",
       "        vertical-align: top;\n",
       "    }\n",
       "\n",
       "    .dataframe thead th {\n",
       "        text-align: right;\n",
       "    }\n",
       "</style>\n",
       "<table border=\"1\" class=\"dataframe\">\n",
       "  <thead>\n",
       "    <tr style=\"text-align: right;\">\n",
       "      <th></th>\n",
       "      <th>Unnamed: 0</th>\n",
       "      <th>id</th>\n",
       "      <th>date_created</th>\n",
       "      <th>order_id</th>\n",
       "      <th>city_name</th>\n",
       "      <th>date_assembly_started</th>\n",
       "      <th>work_place_id</th>\n",
       "      <th>date_picked</th>\n",
       "      <th>single_item</th>\n",
       "      <th>from_multi_stock_wave</th>\n",
       "      <th>dp_id</th>\n",
       "    </tr>\n",
       "  </thead>\n",
       "  <tbody>\n",
       "    <tr>\n",
       "      <th>0</th>\n",
       "      <td>0</td>\n",
       "      <td>131199.099109</td>\n",
       "      <td>2023-10-03 14:15:30.183690</td>\n",
       "      <td>154445.148978</td>\n",
       "      <td>{\"ru\": \"Бухара\", \"uz\": \"Buxoro\"} Kuryerlik xiz...</td>\n",
       "      <td>2023-10-03 16:17:51.777480</td>\n",
       "      <td>123.0</td>\n",
       "      <td>2023-10-03 15:51:56.474616</td>\n",
       "      <td>False</td>\n",
       "      <td>False</td>\n",
       "      <td>178.0</td>\n",
       "    </tr>\n",
       "    <tr>\n",
       "      <th>1</th>\n",
       "      <td>1</td>\n",
       "      <td>65635.223942</td>\n",
       "      <td>2023-07-02 13:34:55.760787</td>\n",
       "      <td>77009.786410</td>\n",
       "      <td>{\"ru\": \"Ташкент\", \"uz\": \"Toshkent\"} ТАШ-25</td>\n",
       "      <td>2023-07-02 15:38:54.143670</td>\n",
       "      <td>107.0</td>\n",
       "      <td>2023-07-02 15:03:36.372913</td>\n",
       "      <td>False</td>\n",
       "      <td>False</td>\n",
       "      <td>69.0</td>\n",
       "    </tr>\n",
       "    <tr>\n",
       "      <th>2</th>\n",
       "      <td>2</td>\n",
       "      <td>47216.631063</td>\n",
       "      <td>2023-05-30 12:55:31.324566</td>\n",
       "      <td>54323.211592</td>\n",
       "      <td>{\"ru\": \"Ташкент\", \"uz\": \"Toshkent\"} ТАШ-41</td>\n",
       "      <td>2023-05-30 21:50:25.977527</td>\n",
       "      <td>109.0</td>\n",
       "      <td>2023-05-30 21:01:33.655621</td>\n",
       "      <td>False</td>\n",
       "      <td>False</td>\n",
       "      <td>93.0</td>\n",
       "    </tr>\n",
       "    <tr>\n",
       "      <th>3</th>\n",
       "      <td>3</td>\n",
       "      <td>66496.840504</td>\n",
       "      <td>2023-07-04 05:54:32.376455</td>\n",
       "      <td>78124.970832</td>\n",
       "      <td>{\"ru\": \"Шахрисабз\", \"uz\": \"Shahrisabz\"} ШРЗ-1</td>\n",
       "      <td>2023-07-04 08:58:07.509438</td>\n",
       "      <td>128.0</td>\n",
       "      <td>2023-07-04 07:39:54.982416</td>\n",
       "      <td>False</td>\n",
       "      <td>False</td>\n",
       "      <td>36.0</td>\n",
       "    </tr>\n",
       "    <tr>\n",
       "      <th>4</th>\n",
       "      <td>4</td>\n",
       "      <td>3988.887114</td>\n",
       "      <td>2022-12-20 13:30:12.592720</td>\n",
       "      <td>3440.817729</td>\n",
       "      <td>{\"ru\": \"Маргилан\", \"uz\": \"Marg‘ilon\"} МРГ-1</td>\n",
       "      <td>2022-12-20 15:25:54.385155</td>\n",
       "      <td>101.0</td>\n",
       "      <td>2022-12-20 14:08:37.492925</td>\n",
       "      <td>False</td>\n",
       "      <td>False</td>\n",
       "      <td>15.0</td>\n",
       "    </tr>\n",
       "  </tbody>\n",
       "</table>\n",
       "</div>"
      ],
      "text/plain": [
       "   Unnamed: 0             id                date_created       order_id  \\\n",
       "0           0  131199.099109  2023-10-03 14:15:30.183690  154445.148978   \n",
       "1           1   65635.223942  2023-07-02 13:34:55.760787   77009.786410   \n",
       "2           2   47216.631063  2023-05-30 12:55:31.324566   54323.211592   \n",
       "3           3   66496.840504  2023-07-04 05:54:32.376455   78124.970832   \n",
       "4           4    3988.887114  2022-12-20 13:30:12.592720    3440.817729   \n",
       "\n",
       "                                           city_name  \\\n",
       "0  {\"ru\": \"Бухара\", \"uz\": \"Buxoro\"} Kuryerlik xiz...   \n",
       "1         {\"ru\": \"Ташкент\", \"uz\": \"Toshkent\"} ТАШ-25   \n",
       "2         {\"ru\": \"Ташкент\", \"uz\": \"Toshkent\"} ТАШ-41   \n",
       "3      {\"ru\": \"Шахрисабз\", \"uz\": \"Shahrisabz\"} ШРЗ-1   \n",
       "4        {\"ru\": \"Маргилан\", \"uz\": \"Marg‘ilon\"} МРГ-1   \n",
       "\n",
       "        date_assembly_started  work_place_id                 date_picked  \\\n",
       "0  2023-10-03 16:17:51.777480          123.0  2023-10-03 15:51:56.474616   \n",
       "1  2023-07-02 15:38:54.143670          107.0  2023-07-02 15:03:36.372913   \n",
       "2  2023-05-30 21:50:25.977527          109.0  2023-05-30 21:01:33.655621   \n",
       "3  2023-07-04 08:58:07.509438          128.0  2023-07-04 07:39:54.982416   \n",
       "4  2022-12-20 15:25:54.385155          101.0  2022-12-20 14:08:37.492925   \n",
       "\n",
       "   single_item  from_multi_stock_wave  dp_id  \n",
       "0        False                  False  178.0  \n",
       "1        False                  False   69.0  \n",
       "2        False                  False   93.0  \n",
       "3        False                  False   36.0  \n",
       "4        False                  False   15.0  "
      ]
     },
     "execution_count": 23,
     "metadata": {},
     "output_type": "execute_result"
    }
   ],
   "source": [
    "data.head(5)"
   ]
  },
  {
   "cell_type": "code",
   "execution_count": 24,
   "metadata": {},
   "outputs": [],
   "source": [
    "data = data.drop(['Unnamed: 0','dp_id'], axis=1)"
   ]
  },
  {
   "cell_type": "markdown",
   "id": "cb98ca88",
   "metadata": {},
   "source": [
    "Задача №2. Теперь необходимо проверить кол-во строк и кол-во непустых строк в дата-фрейме. Если в дата-фрейме в какой-либо колонке присутствуют пустые значения - можно удалить целую строку. "
   ]
  },
  {
   "cell_type": "code",
   "execution_count": 25,
   "id": "3816bf2f",
   "metadata": {},
   "outputs": [
    {
     "name": "stdout",
     "output_type": "stream",
     "text": [
      "<class 'pandas.core.frame.DataFrame'>\n",
      "RangeIndex: 3000 entries, 0 to 2999\n",
      "Data columns (total 9 columns):\n",
      " #   Column                 Non-Null Count  Dtype  \n",
      "---  ------                 --------------  -----  \n",
      " 0   id                     3000 non-null   float64\n",
      " 1   date_created           3000 non-null   object \n",
      " 2   order_id               2992 non-null   float64\n",
      " 3   city_name              2992 non-null   object \n",
      " 4   date_assembly_started  2810 non-null   object \n",
      " 5   work_place_id          2956 non-null   float64\n",
      " 6   date_picked            2610 non-null   object \n",
      " 7   single_item            3000 non-null   bool   \n",
      " 8   from_multi_stock_wave  3000 non-null   bool   \n",
      "dtypes: bool(2), float64(3), object(4)\n",
      "memory usage: 170.1+ KB\n",
      "None\n",
      "id                         0\n",
      "date_created               0\n",
      "single_item                0\n",
      "from_multi_stock_wave      0\n",
      "order_id                   8\n",
      "city_name                  8\n",
      "work_place_id             44\n",
      "date_assembly_started    190\n",
      "date_picked              390\n",
      "dtype: int64\n"
     ]
    }
   ],
   "source": [
    "empty_cells = (data.isnull().sum())\n",
    "\n",
    "print(data.info())\n",
    "print(empty_cells.sort_values())"
   ]
  },
  {
   "cell_type": "code",
   "execution_count": 26,
   "metadata": {},
   "outputs": [],
   "source": [
    "data = data.dropna()"
   ]
  },
  {
   "cell_type": "code",
   "execution_count": 27,
   "metadata": {},
   "outputs": [
    {
     "name": "stdout",
     "output_type": "stream",
     "text": [
      "<class 'pandas.core.frame.DataFrame'>\n",
      "Index: 2455 entries, 0 to 2999\n",
      "Data columns (total 9 columns):\n",
      " #   Column                 Non-Null Count  Dtype  \n",
      "---  ------                 --------------  -----  \n",
      " 0   id                     2455 non-null   float64\n",
      " 1   date_created           2455 non-null   object \n",
      " 2   order_id               2455 non-null   float64\n",
      " 3   city_name              2455 non-null   object \n",
      " 4   date_assembly_started  2455 non-null   object \n",
      " 5   work_place_id          2455 non-null   float64\n",
      " 6   date_picked            2455 non-null   object \n",
      " 7   single_item            2455 non-null   bool   \n",
      " 8   from_multi_stock_wave  2455 non-null   bool   \n",
      "dtypes: bool(2), float64(3), object(4)\n",
      "memory usage: 158.2+ KB\n"
     ]
    }
   ],
   "source": [
    "data.info()"
   ]
  },
  {
   "cell_type": "markdown",
   "id": "18577d0e",
   "metadata": {},
   "source": [
    "Задача №3. \n",
    "Теперь, когда все готово, приступим к главному:\n",
    "    Твой коллега скинул данные для того, чтобы ты, как аналитик, подсчитал, для какого города заказы собираются быстрее. \n",
    "    Таким образом:\n",
    "    \n",
    "1) Нужно сравнить date_created и date_assembly_started - сколько времени проходит от создания заказа до начала его сборки в среднем?\n",
    "2) Нужно сравнить - сколько времени проходит от начала сборки до окончания отбора позиций в среднем?\n",
    "3) Затем сравнить 2 полученные выше метрики по городам (для какого города время от создания заказа до начала сборки - минимальное? для какого города - максимальное? как бы ты объяснил - почему?)\n"
   ]
  },
  {
   "cell_type": "code",
   "execution_count": 28,
   "metadata": {},
   "outputs": [
    {
     "data": {
      "text/html": [
       "<div>\n",
       "<style scoped>\n",
       "    .dataframe tbody tr th:only-of-type {\n",
       "        vertical-align: middle;\n",
       "    }\n",
       "\n",
       "    .dataframe tbody tr th {\n",
       "        vertical-align: top;\n",
       "    }\n",
       "\n",
       "    .dataframe thead th {\n",
       "        text-align: right;\n",
       "    }\n",
       "</style>\n",
       "<table border=\"1\" class=\"dataframe\">\n",
       "  <thead>\n",
       "    <tr style=\"text-align: right;\">\n",
       "      <th></th>\n",
       "      <th>id</th>\n",
       "      <th>date_created</th>\n",
       "      <th>order_id</th>\n",
       "      <th>city_name</th>\n",
       "      <th>date_assembly_started</th>\n",
       "      <th>work_place_id</th>\n",
       "      <th>date_picked</th>\n",
       "      <th>single_item</th>\n",
       "      <th>from_multi_stock_wave</th>\n",
       "    </tr>\n",
       "  </thead>\n",
       "  <tbody>\n",
       "    <tr>\n",
       "      <th>0</th>\n",
       "      <td>131199.099109</td>\n",
       "      <td>2023-10-03 14:15:30.183690</td>\n",
       "      <td>154445.148978</td>\n",
       "      <td>{\"ru\": \"Бухара\", \"uz\": \"Buxoro\"} Kuryerlik xiz...</td>\n",
       "      <td>2023-10-03 16:17:51.777480</td>\n",
       "      <td>123.0</td>\n",
       "      <td>2023-10-03 15:51:56.474616</td>\n",
       "      <td>False</td>\n",
       "      <td>False</td>\n",
       "    </tr>\n",
       "    <tr>\n",
       "      <th>1</th>\n",
       "      <td>65635.223942</td>\n",
       "      <td>2023-07-02 13:34:55.760787</td>\n",
       "      <td>77009.786410</td>\n",
       "      <td>{\"ru\": \"Ташкент\", \"uz\": \"Toshkent\"} ТАШ-25</td>\n",
       "      <td>2023-07-02 15:38:54.143670</td>\n",
       "      <td>107.0</td>\n",
       "      <td>2023-07-02 15:03:36.372913</td>\n",
       "      <td>False</td>\n",
       "      <td>False</td>\n",
       "    </tr>\n",
       "    <tr>\n",
       "      <th>2</th>\n",
       "      <td>47216.631063</td>\n",
       "      <td>2023-05-30 12:55:31.324566</td>\n",
       "      <td>54323.211592</td>\n",
       "      <td>{\"ru\": \"Ташкент\", \"uz\": \"Toshkent\"} ТАШ-41</td>\n",
       "      <td>2023-05-30 21:50:25.977527</td>\n",
       "      <td>109.0</td>\n",
       "      <td>2023-05-30 21:01:33.655621</td>\n",
       "      <td>False</td>\n",
       "      <td>False</td>\n",
       "    </tr>\n",
       "    <tr>\n",
       "      <th>3</th>\n",
       "      <td>66496.840504</td>\n",
       "      <td>2023-07-04 05:54:32.376455</td>\n",
       "      <td>78124.970832</td>\n",
       "      <td>{\"ru\": \"Шахрисабз\", \"uz\": \"Shahrisabz\"} ШРЗ-1</td>\n",
       "      <td>2023-07-04 08:58:07.509438</td>\n",
       "      <td>128.0</td>\n",
       "      <td>2023-07-04 07:39:54.982416</td>\n",
       "      <td>False</td>\n",
       "      <td>False</td>\n",
       "    </tr>\n",
       "    <tr>\n",
       "      <th>4</th>\n",
       "      <td>3988.887114</td>\n",
       "      <td>2022-12-20 13:30:12.592720</td>\n",
       "      <td>3440.817729</td>\n",
       "      <td>{\"ru\": \"Маргилан\", \"uz\": \"Marg‘ilon\"} МРГ-1</td>\n",
       "      <td>2022-12-20 15:25:54.385155</td>\n",
       "      <td>101.0</td>\n",
       "      <td>2022-12-20 14:08:37.492925</td>\n",
       "      <td>False</td>\n",
       "      <td>False</td>\n",
       "    </tr>\n",
       "  </tbody>\n",
       "</table>\n",
       "</div>"
      ],
      "text/plain": [
       "              id                date_created       order_id  \\\n",
       "0  131199.099109  2023-10-03 14:15:30.183690  154445.148978   \n",
       "1   65635.223942  2023-07-02 13:34:55.760787   77009.786410   \n",
       "2   47216.631063  2023-05-30 12:55:31.324566   54323.211592   \n",
       "3   66496.840504  2023-07-04 05:54:32.376455   78124.970832   \n",
       "4    3988.887114  2022-12-20 13:30:12.592720    3440.817729   \n",
       "\n",
       "                                           city_name  \\\n",
       "0  {\"ru\": \"Бухара\", \"uz\": \"Buxoro\"} Kuryerlik xiz...   \n",
       "1         {\"ru\": \"Ташкент\", \"uz\": \"Toshkent\"} ТАШ-25   \n",
       "2         {\"ru\": \"Ташкент\", \"uz\": \"Toshkent\"} ТАШ-41   \n",
       "3      {\"ru\": \"Шахрисабз\", \"uz\": \"Shahrisabz\"} ШРЗ-1   \n",
       "4        {\"ru\": \"Маргилан\", \"uz\": \"Marg‘ilon\"} МРГ-1   \n",
       "\n",
       "        date_assembly_started  work_place_id                 date_picked  \\\n",
       "0  2023-10-03 16:17:51.777480          123.0  2023-10-03 15:51:56.474616   \n",
       "1  2023-07-02 15:38:54.143670          107.0  2023-07-02 15:03:36.372913   \n",
       "2  2023-05-30 21:50:25.977527          109.0  2023-05-30 21:01:33.655621   \n",
       "3  2023-07-04 08:58:07.509438          128.0  2023-07-04 07:39:54.982416   \n",
       "4  2022-12-20 15:25:54.385155          101.0  2022-12-20 14:08:37.492925   \n",
       "\n",
       "   single_item  from_multi_stock_wave  \n",
       "0        False                  False  \n",
       "1        False                  False  \n",
       "2        False                  False  \n",
       "3        False                  False  \n",
       "4        False                  False  "
      ]
     },
     "execution_count": 28,
     "metadata": {},
     "output_type": "execute_result"
    }
   ],
   "source": [
    "data.head(5)"
   ]
  },
  {
   "cell_type": "code",
   "execution_count": 29,
   "metadata": {},
   "outputs": [
    {
     "data": {
      "text/plain": [
       "0       2023-10-03 16:17:51.777480\n",
       "1       2023-07-02 15:38:54.143670\n",
       "2       2023-05-30 21:50:25.977527\n",
       "3       2023-07-04 08:58:07.509438\n",
       "4       2022-12-20 15:25:54.385155\n",
       "                   ...            \n",
       "2995    2023-10-01 11:14:19.794514\n",
       "2996    2023-10-27 13:05:11.369450\n",
       "2997    2023-10-08 02:53:45.611252\n",
       "2998    2023-09-25 18:45:18.701501\n",
       "2999    2023-09-29 09:01:42.984717\n",
       "Name: date_assembly_started, Length: 2455, dtype: object"
      ]
     },
     "execution_count": 29,
     "metadata": {},
     "output_type": "execute_result"
    }
   ],
   "source": [
    "data['date_assembly_started']"
   ]
  },
  {
   "cell_type": "code",
   "execution_count": 30,
   "id": "70430ee8",
   "metadata": {},
   "outputs": [],
   "source": [
    "data['date_created'] = pd.to_datetime(data['date_created'])\n",
    "data['date_assembly_started'] = pd.to_datetime(data['date_assembly_started'])\n",
    "data['date_picked'] = pd.to_datetime(data['date_picked'])"
   ]
  },
  {
   "cell_type": "code",
   "execution_count": 31,
   "metadata": {},
   "outputs": [
    {
     "name": "stdout",
     "output_type": "stream",
     "text": [
      "0 days 05:18:59.674913933\n"
     ]
    }
   ],
   "source": [
    "data[\"time_diff_creation_to_assembly\"] = data[\"date_assembly_started\"] - data[\"date_created\"]\n",
    "\n",
    "average_time_difference = data[\"time_diff_creation_to_assembly\"].mean()\n",
    "print(average_time_difference)"
   ]
  },
  {
   "cell_type": "code",
   "execution_count": 32,
   "metadata": {},
   "outputs": [
    {
     "name": "stdout",
     "output_type": "stream",
     "text": [
      "-1 days +23:01:31.489799681\n"
     ]
    }
   ],
   "source": [
    "data['time_diff_assembly_to_picked'] = data['date_picked'] - data['date_assembly_started']\n",
    "\n",
    "average_time_difference = data['time_diff_assembly_to_picked'].mean()\n",
    "\n",
    "print(average_time_difference)"
   ]
  },
  {
   "cell_type": "code",
   "execution_count": 36,
   "metadata": {},
   "outputs": [
    {
     "name": "stdout",
     "output_type": "stream",
     "text": [
      "min: city_name\n",
      "Toshkent Courier                                                                      0 days 01:23:46.308555\n",
      "Toshkent ТАШ-2                                                                        0 days 01:09:14.158401\n",
      "Toshkent ТАШ-5                                                                        0 days 00:57:21.575266\n",
      "{\"ru\": \"Алмалык\", \"uz\": \"Olmaliq\"} АЛМ-1                                              0 days 00:36:49.736004\n",
      "{\"ru\": \"Алмалык\", \"uz\": \"Olmaliq\"} АЛМ-2                                              0 days 01:35:45.669700\n",
      "                                                                                               ...          \n",
      "{\"uz\": \"Yaypan\", \"ru\": \"\\u042f\\u0439\\u043f\\u0430\\u043d\"} ЯПН-1                        0 days 01:20:46.541477\n",
      "{\"uz\": \"Zangiota\", \"ru\": \"\\u0417\\u0430\\u043d\\u0433\\u0438\\u043e\\u0442\\u0430\"} ЗГН-1    0 days 01:50:42.762950\n",
      "{\"uz\": \"Zarafshon\", \"ru\": \"\\u0417\\u0430\\u0440\\u0430\\u0444\\u0448\\u0430\\u043d\"} ЗАР-1   0 days 01:10:45.418355\n",
      "{\"uz\": \"Zarafshon\", \"ru\": \"\\u0417\\u0430\\u0440\\u0430\\u0444\\u0448\\u0430\\u043d\"} ЗАР-2   0 days 01:05:07.791115\n",
      "{\"uz\": \"Zarafshon\", \"ru\": \"\\u0417\\u0430\\u0440\\u0430\\u0444\\u0448\\u0430\\u043d\"} ЗАР-3   0 days 00:33:12.945502\n",
      "Name: time_diff_creation_to_assembly, Length: 284, dtype: timedelta64[ns]\n",
      "\n",
      "\n",
      "max: city_name\n",
      "Toshkent Courier                                                                      0 days 01:23:46.308555\n",
      "Toshkent ТАШ-2                                                                        0 days 01:09:14.158401\n",
      "Toshkent ТАШ-5                                                                        0 days 00:57:21.575266\n",
      "{\"ru\": \"Алмалык\", \"uz\": \"Olmaliq\"} АЛМ-1                                              1 days 00:58:46.935294\n",
      "{\"ru\": \"Алмалык\", \"uz\": \"Olmaliq\"} АЛМ-2                                              0 days 21:14:49.761832\n",
      "                                                                                               ...          \n",
      "{\"uz\": \"Yaypan\", \"ru\": \"\\u042f\\u0439\\u043f\\u0430\\u043d\"} ЯПН-1                        0 days 05:26:52.784305\n",
      "{\"uz\": \"Zangiota\", \"ru\": \"\\u0417\\u0430\\u043d\\u0433\\u0438\\u043e\\u0442\\u0430\"} ЗГН-1    0 days 06:46:31.736227\n",
      "{\"uz\": \"Zarafshon\", \"ru\": \"\\u0417\\u0430\\u0440\\u0430\\u0444\\u0448\\u0430\\u043d\"} ЗАР-1   0 days 07:12:30.082192\n",
      "{\"uz\": \"Zarafshon\", \"ru\": \"\\u0417\\u0430\\u0440\\u0430\\u0444\\u0448\\u0430\\u043d\"} ЗАР-2   0 days 09:29:45.403778\n",
      "{\"uz\": \"Zarafshon\", \"ru\": \"\\u0417\\u0430\\u0440\\u0430\\u0444\\u0448\\u0430\\u043d\"} ЗАР-3   0 days 02:03:21.152031\n",
      "Name: time_diff_creation_to_assembly, Length: 284, dtype: timedelta64[ns]\n"
     ]
    }
   ],
   "source": [
    "min = data.groupby('city_name')['time_diff_creation_to_assembly'].min()\n",
    "max = data.groupby('city_name')['time_diff_creation_to_assembly'].max()\n",
    "\n",
    "print('min:', min)\n",
    "print('\\n\\nmax:', max)"
   ]
  },
  {
   "cell_type": "markdown",
   "id": "b9c3740e",
   "metadata": {},
   "source": [
    "Задача №4. Ты подсчитал среднее время сборки заказа по городам и в целом, однако теперь хочется понять являются ли результаты значимыми. \n",
    "\n",
    "1) Проверь распредение сборки заказов в целом (без разделения по городам) - является ли распределение нормальным?\n",
    "2) Проверь распредение сборки заказов для самого медленного города и для самого быстрого. Являются ли оба эти распределения нормальным?\n",
    "3) Построй графики плотности распределений и box-plots. Что говорят данные? Как бы ты их интерпретировал? \n",
    "5) Проведи 2 статистических теста для проверки нормальности (на выбор) по два теста - на каждый город. О чем говорят метрики? О чем говорит p.value? \n",
    "6) Сравни 2 города (самый быстрый и самый медленный), используя параметрический или непараметрический критерий сравнения (в зависимости от пункта 5). \n",
    "7) Сделай вывод, относительно результата. \n",
    "\n"
   ]
  },
  {
   "cell_type": "code",
   "execution_count": 69,
   "id": "eee335b7",
   "metadata": {},
   "outputs": [],
   "source": [
    "# ...some code here ..."
   ]
  },
  {
   "cell_type": "markdown",
   "id": "24057053",
   "metadata": {},
   "source": [
    "Задача №5. Полученные результаты ты показал коллеге. Он поблагодарил тебя за работу, посмотрел результаты, но вдруг ему в голову пришла гипотеза - а что если на время сборки заказа влияет кол-во заказов на складе в этот день? И действительно! Вероятно, что чем больше заказов было создано в конкретный день, тем медленнее их будут собирать. Ты вызвался проверить эту гипотезу.\n",
    "\n",
    "Таким образом:\n",
    "\n",
    "1) Сформируй дата-фрейм, где будет: кол-во заказов (можно брать count по order_id), дата (можно взять дату создания заказа) и среднее время сборки заказа в эту дату. \n",
    "2) Построй корреляцию между кол-вом заказов и среднем временем сборки в этот день\n",
    "3) Построй линейную регрессию для этих же признаков, где зависимая переменная - среднее время сборки заказа. \n",
    "4) О чем говорят данные? Что говорят метрики корреляции? Что говорят статистики регрессии? Как бы ты поделился результатом с коллегой, который не очень хорош в математике? "
   ]
  },
  {
   "cell_type": "code",
   "execution_count": null,
   "id": "ee79a3f0",
   "metadata": {},
   "outputs": [],
   "source": [
    "# ... some code here ... "
   ]
  }
 ],
 "metadata": {
  "kernelspec": {
   "display_name": "Python 3 (ipykernel)",
   "language": "python",
   "name": "python3"
  },
  "language_info": {
   "codemirror_mode": {
    "name": "ipython",
    "version": 3
   },
   "file_extension": ".py",
   "mimetype": "text/x-python",
   "name": "python",
   "nbconvert_exporter": "python",
   "pygments_lexer": "ipython3",
   "version": "3.11.5"
  }
 },
 "nbformat": 4,
 "nbformat_minor": 5
}
